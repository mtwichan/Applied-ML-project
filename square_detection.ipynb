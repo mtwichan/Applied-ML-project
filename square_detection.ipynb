{
 "cells": [
  {
   "cell_type": "code",
   "execution_count": 183,
   "metadata": {},
   "outputs": [
    {
     "name": "stdout",
     "output_type": "stream",
     "text": [
      "The nb_black extension is already loaded. To reload it, use:\n",
      "  %reload_ext nb_black\n"
     ]
    },
    {
     "data": {
      "application/javascript": [
       "\n",
       "            setTimeout(function() {\n",
       "                var nbb_cell_id = 183;\n",
       "                var nbb_unformatted_code = \"# Auto PEP8 Code\\n%load_ext nb_black\";\n",
       "                var nbb_formatted_code = \"# Auto PEP8 Code\\n%load_ext nb_black\";\n",
       "                var nbb_cells = Jupyter.notebook.get_cells();\n",
       "                for (var i = 0; i < nbb_cells.length; ++i) {\n",
       "                    if (nbb_cells[i].input_prompt_number == nbb_cell_id) {\n",
       "                        if (nbb_cells[i].get_text() == nbb_unformatted_code) {\n",
       "                             nbb_cells[i].set_text(nbb_formatted_code);\n",
       "                        }\n",
       "                        break;\n",
       "                    }\n",
       "                }\n",
       "            }, 500);\n",
       "            "
      ],
      "text/plain": [
       "<IPython.core.display.Javascript object>"
      ]
     },
     "metadata": {},
     "output_type": "display_data"
    }
   ],
   "source": [
    "# Auto PEP8 Code\n",
    "%load_ext nb_black"
   ]
  },
  {
   "cell_type": "code",
   "execution_count": 184,
   "metadata": {},
   "outputs": [
    {
     "data": {
      "application/javascript": [
       "\n",
       "            setTimeout(function() {\n",
       "                var nbb_cell_id = 184;\n",
       "                var nbb_unformatted_code = \"# Enable Plots in Jupyter Notebook\\n%matplotlib inline\";\n",
       "                var nbb_formatted_code = \"# Enable Plots in Jupyter Notebook\\n%matplotlib inline\";\n",
       "                var nbb_cells = Jupyter.notebook.get_cells();\n",
       "                for (var i = 0; i < nbb_cells.length; ++i) {\n",
       "                    if (nbb_cells[i].input_prompt_number == nbb_cell_id) {\n",
       "                        if (nbb_cells[i].get_text() == nbb_unformatted_code) {\n",
       "                             nbb_cells[i].set_text(nbb_formatted_code);\n",
       "                        }\n",
       "                        break;\n",
       "                    }\n",
       "                }\n",
       "            }, 500);\n",
       "            "
      ],
      "text/plain": [
       "<IPython.core.display.Javascript object>"
      ]
     },
     "metadata": {},
     "output_type": "display_data"
    }
   ],
   "source": [
    "# Enable Plots in Jupyter Notebook\n",
    "%matplotlib inline"
   ]
  },
  {
   "cell_type": "code",
   "execution_count": 7,
   "metadata": {},
   "outputs": [],
   "source": [
    "from skimage import feature\n",
    "import cv2\n",
    "import matplotlib.pyplot as plt"
   ]
  },
  {
   "cell_type": "code",
   "execution_count": 8,
   "metadata": {
    "scrolled": true
   },
   "outputs": [
    {
     "data": {
      "image/png": "[encoded data removed]",
      "text/plain": [
       "<Figure size 432x288 with 1 Axes>"
      ]
     },
     "metadata": {
      "needs_background": "light"
     },
     "output_type": "display_data"
    },
    {
     "data": {
      "image/png": "[encoded data removed]",
      "text/plain": [
       "<Figure size 432x288 with 1 Axes>"
      ]
     },
     "metadata": {
      "needs_background": "light"
     },
     "output_type": "display_data"
    }
   ],
   "source": [
    "# Test HoG with sample image where square is oriented almost straight\n",
    "# Original Image\n",
    "image = cv2.imread(\"./dataset/squares/square-0.png\")\n",
    "plt.imshow(image)\n",
    "plt.title(\"Original Image\")\n",
    "plt.show()\n",
    "\n",
    "# Run HoGs on image\n",
    "(hog, hog_image) = feature.hog(\n",
    "    image,\n",
    "    orientations=9,\n",
    "    pixels_per_cell=(8, 8),\n",
    "    cells_per_block=(2, 2),\n",
    "    block_norm=\"L2\",\n",
    "    visualize=True,\n",
    "    transform_sqrt=True,\n",
    ")\n",
    "\n",
    "plt.imshow(hog_image)\n",
    "plt.title(\"HoGs Image\")\n",
    "plt.show()"
   ]
  },
  {
   "cell_type": "code",
   "execution_count": 188,
   "metadata": {},
   "outputs": [
    {
     "data": {
      "application/javascript": [
       "\n",
       "            setTimeout(function() {\n",
       "                var nbb_cell_id = 188;\n",
       "                var nbb_unformatted_code = \"# Complete Code\\nimport os\\nimport cv2\\n\\nfrom sklearn.svm import LinearSVC\\nfrom skimage import feature\\nfrom sklearn.metrics import classification_report, accuracy_score, confusion_matrix\";\n",
       "                var nbb_formatted_code = \"# Complete Code\\nimport os\\nimport cv2\\n\\nfrom sklearn.svm import LinearSVC\\nfrom skimage import feature\\nfrom sklearn.metrics import classification_report, accuracy_score, confusion_matrix\";\n",
       "                var nbb_cells = Jupyter.notebook.get_cells();\n",
       "                for (var i = 0; i < nbb_cells.length; ++i) {\n",
       "                    if (nbb_cells[i].input_prompt_number == nbb_cell_id) {\n",
       "                        if (nbb_cells[i].get_text() == nbb_unformatted_code) {\n",
       "                             nbb_cells[i].set_text(nbb_formatted_code);\n",
       "                        }\n",
       "                        break;\n",
       "                    }\n",
       "                }\n",
       "            }, 500);\n",
       "            "
      ],
      "text/plain": [
       "<IPython.core.display.Javascript object>"
      ]
     },
     "metadata": {},
     "output_type": "display_data"
    }
   ],
   "source": [
    "# Complete Code\n",
    "import os\n",
    "import cv2\n",
    "\n",
    "from sklearn.svm import LinearSVC\n",
    "from skimage import feature\n",
    "from sklearn.metrics import classification_report, accuracy_score, confusion_matrix"
   ]
  },
  {
   "cell_type": "code",
   "execution_count": 189,
   "metadata": {},
   "outputs": [
    {
     "data": {
      "application/javascript": [
       "\n",
       "            setTimeout(function() {\n",
       "                var nbb_cell_id = 189;\n",
       "                var nbb_unformatted_code = \"# Get HOG Features from Training Set\\nimg_path = \\\"shapes\\\"\\nimg_path = f\\\"input/{img_path}\\\"\\n\\nx_test = []\\ny_test = []\\n\\n# Get all the image folder paths\\nimg_paths = os.listdir(img_path)\\nfor path in img_paths:\\n\\n    # Get lists containing names of all images for training set\\n    main_path = f\\\"{img_path}/{path}\\\"\\n    all_images = os.listdir(main_path)\\n\\n    # Run HoGs on training set\\n    for image in all_images:\\n\\n        # Get image\\n        image_path = f\\\"{main_path}/{image}\\\"\\n\\n        # Read image and resize to 128 x 256 - HoGs requires 1:2 ratio\\n        image = cv2.imread(image_path)\\n        image = cv2.resize(image, (128, 256))\\n\\n        # Calculate HOG descriptor for each image\\n        hog_desc = feature.hog(\\n            image,\\n            orientations=9,\\n            pixels_per_cell=(8, 8),\\n            cells_per_block=(2, 2),\\n            transform_sqrt=True,\\n            block_norm=\\\"L2\\\",\\n        )\\n\\n        # Add images and labels\\n        x_test.append(hog_desc)\\n        y_test.append(path)\";\n",
       "                var nbb_formatted_code = \"# Get HOG Features from Training Set\\nimg_path = \\\"shapes\\\"\\nimg_path = f\\\"input/{img_path}\\\"\\n\\nx_test = []\\ny_test = []\\n\\n# Get all the image folder paths\\nimg_paths = os.listdir(img_path)\\nfor path in img_paths:\\n\\n    # Get lists containing names of all images for training set\\n    main_path = f\\\"{img_path}/{path}\\\"\\n    all_images = os.listdir(main_path)\\n\\n    # Run HoGs on training set\\n    for image in all_images:\\n\\n        # Get image\\n        image_path = f\\\"{main_path}/{image}\\\"\\n\\n        # Read image and resize to 128 x 256 - HoGs requires 1:2 ratio\\n        image = cv2.imread(image_path)\\n        image = cv2.resize(image, (128, 256))\\n\\n        # Calculate HOG descriptor for each image\\n        hog_desc = feature.hog(\\n            image,\\n            orientations=9,\\n            pixels_per_cell=(8, 8),\\n            cells_per_block=(2, 2),\\n            transform_sqrt=True,\\n            block_norm=\\\"L2\\\",\\n        )\\n\\n        # Add images and labels\\n        x_test.append(hog_desc)\\n        y_test.append(path)\";\n",
       "                var nbb_cells = Jupyter.notebook.get_cells();\n",
       "                for (var i = 0; i < nbb_cells.length; ++i) {\n",
       "                    if (nbb_cells[i].input_prompt_number == nbb_cell_id) {\n",
       "                        if (nbb_cells[i].get_text() == nbb_unformatted_code) {\n",
       "                             nbb_cells[i].set_text(nbb_formatted_code);\n",
       "                        }\n",
       "                        break;\n",
       "                    }\n",
       "                }\n",
       "            }, 500);\n",
       "            "
      ],
      "text/plain": [
       "<IPython.core.display.Javascript object>"
      ]
     },
     "metadata": {},
     "output_type": "display_data"
    }
   ],
   "source": [
    "# Get HOG Features from Training Set\n",
    "img_path = \"shapes\"\n",
    "img_path = f\"input/{img_path}\"\n",
    "\n",
    "x_test = []\n",
    "y_test = []\n",
    "\n",
    "# Get all the image folder paths\n",
    "img_paths = os.listdir(img_path)\n",
    "for path in img_paths:\n",
    "\n",
    "    # Get lists containing names of all images for training set\n",
    "    main_path = f\"{img_path}/{path}\"\n",
    "    all_images = os.listdir(main_path)\n",
    "\n",
    "    # Run HoGs on training set\n",
    "    for image in all_images:\n",
    "\n",
    "        # Get image\n",
    "        image_path = f\"{main_path}/{image}\"\n",
    "\n",
    "        # Read image and resize to 128 x 256 - HoGs requires 1:2 ratio\n",
    "        image = cv2.imread(image_path)\n",
    "        image = cv2.resize(image, (128, 256))\n",
    "\n",
    "        # Calculate HOG descriptor for each image\n",
    "        hog_desc = feature.hog(\n",
    "            image,\n",
    "            orientations=9,\n",
    "            pixels_per_cell=(8, 8),\n",
    "            cells_per_block=(2, 2),\n",
    "            transform_sqrt=True,\n",
    "            block_norm=\"L2\",\n",
    "        )\n",
    "\n",
    "        # Add images and labels\n",
    "        x_test.append(hog_desc)\n",
    "        y_test.append(path)"
   ]
  },
  {
   "cell_type": "code",
   "execution_count": 190,
   "metadata": {},
   "outputs": [
    {
     "name": "stdout",
     "output_type": "stream",
     "text": [
      "Training SVM on the training set ...\n"
     ]
    },
    {
     "data": {
      "text/plain": [
       "LinearSVC(random_state=42, tol=1e-05)"
      ]
     },
     "execution_count": 190,
     "metadata": {},
     "output_type": "execute_result"
    },
    {
     "data": {
      "application/javascript": [
       "\n",
       "            setTimeout(function() {\n",
       "                var nbb_cell_id = 190;\n",
       "                var nbb_unformatted_code = \"# Train SVM\\nprint(\\\"Training SVM on the training set ...\\\")\\nsvm_model = LinearSVC(random_state=42, tol=1e-5)\\nsvm_model.fit(x_test, y_test)\";\n",
       "                var nbb_formatted_code = \"# Train SVM\\nprint(\\\"Training SVM on the training set ...\\\")\\nsvm_model = LinearSVC(random_state=42, tol=1e-5)\\nsvm_model.fit(x_test, y_test)\";\n",
       "                var nbb_cells = Jupyter.notebook.get_cells();\n",
       "                for (var i = 0; i < nbb_cells.length; ++i) {\n",
       "                    if (nbb_cells[i].input_prompt_number == nbb_cell_id) {\n",
       "                        if (nbb_cells[i].get_text() == nbb_unformatted_code) {\n",
       "                             nbb_cells[i].set_text(nbb_formatted_code);\n",
       "                        }\n",
       "                        break;\n",
       "                    }\n",
       "                }\n",
       "            }, 500);\n",
       "            "
      ],
      "text/plain": [
       "<IPython.core.display.Javascript object>"
      ]
     },
     "metadata": {},
     "output_type": "display_data"
    }
   ],
   "source": [
    "# Train SVM\n",
    "print(\"Training SVM on the training set ...\")\n",
    "svm_model = LinearSVC(random_state=42, tol=1e-5)\n",
    "svm_model.fit(x_test, y_test)"
   ]
  },
  {
   "cell_type": "code",
   "execution_count": 191,
   "metadata": {},
   "outputs": [
    {
     "name": "stdout",
     "output_type": "stream",
     "text": [
      "Testing SVM model on testing set ...\n",
      "Actual >>> blank10\n",
      "Predicted >>> squares\n",
      "Actual >>> blank5\n",
      "Predicted >>> squares\n",
      "Actual >>> blank6\n",
      "Predicted >>> squares\n",
      "Actual >>> blank7\n",
      "Predicted >>> squares\n",
      "Actual >>> blank8\n",
      "Predicted >>> squares\n",
      "Actual >>> blank9\n",
      "Predicted >>> squares\n",
      "Actual >>> square-11\n",
      "Predicted >>> squares\n",
      "Actual >>> square-12\n",
      "Predicted >>> squares\n",
      "Actual >>> square-13\n",
      "Predicted >>> squares\n",
      "Actual >>> square-14\n",
      "Predicted >>> squares\n",
      "Actual >>> square-15\n",
      "Predicted >>> squares\n",
      "Actual >>> square-16\n",
      "Predicted >>> squares\n",
      "Actual >>> square-17\n",
      "Predicted >>> squares\n",
      "Actual >>> square-18\n",
      "Predicted >>> squares\n",
      "Actual >>> square-19\n",
      "Predicted >>> squares\n",
      "Actual >>> square-20\n",
      "Predicted >>> squares\n"
     ]
    },
    {
     "data": {
      "application/javascript": [
       "\n",
       "            setTimeout(function() {\n",
       "                var nbb_cell_id = 191;\n",
       "                var nbb_unformatted_code = \"# Run SVM model on test images\\nprint(\\\"Testing SVM model on testing set ...\\\")\\n\\nimg_path = \\\"shapes\\\"\\nimg_path = f\\\"test_images/{img_path}\\\"\\nimg_paths = os.listdir(img_path)\\n\\noutput_path = f\\\"outputs/\\\"\\n\\nx_pred_all = []\\ny_pred_all = []\\n\\n# loop over the test dataset folders\\nfor (i, img) in enumerate(img_paths):\\n    # File pathing\\n    img = f\\\"{img_path}/{img}\\\"\\n    image = cv2.imread(img)\\n\\n    # Resize to 128 x 256 - HoGs requires 1:2 ratio\\n    resized_image = cv2.resize(image, (128, 256))\\n\\n    # Generate HoG for image\\n    (hog_desc, hog_image) = feature.hog(\\n        resized_image,\\n        orientations=9,\\n        pixels_per_cell=(8, 8),\\n        cells_per_block=(2, 2),\\n        transform_sqrt=True,\\n        block_norm=\\\"L2\\\",\\n        visualize=True,\\n    )\\n\\n    # Run SVM prediction\\n    x_pred = hog_desc.reshape(1, -1)\\n    y_pred = svm_model.predict(x_pred)[0]\\n\\n    x_pred_all.append(x_pred)\\n    y_pred_all.append(y_pred)\\n\\n    # Print predictions\\n    img_name = img.split(\\\"/\\\")[-1][:-4]\\n\\n    print(\\\"Actual >>>\\\", img_name)\\n    print(\\\"Predicted >>>\\\", pred)\\n\\n    # Rescale HoG image\\n    hog_image = hog_image.astype(\\\"float64\\\")\\n\\n    # Add text to image\\n    actual_text = f\\\"Actual: {img_name}\\\"\\n    predicted_text = f\\\"Predicted: {y_pred}\\\"\\n\\n    cv2.putText(\\n        image, predicted_text, (10, 40), cv2.FONT_HERSHEY_SIMPLEX, 0.6, (255, 0, 0), 2\\n    )\\n    cv2.putText(\\n        image, actual_text, (10, 20), cv2.FONT_HERSHEY_SIMPLEX, 0.6, (255, 0, 0), 2\\n    )\\n\\n    # Write output images to output folder\\n    cv2.imwrite(f\\\"{output_path}hog_{i}.jpg\\\", hog_image * 255.0)\\n    cv2.imwrite(f\\\"{output_path}pred_{i}.jpg\\\", image)\";\n",
       "                var nbb_formatted_code = \"# Run SVM model on test images\\nprint(\\\"Testing SVM model on testing set ...\\\")\\n\\nimg_path = \\\"shapes\\\"\\nimg_path = f\\\"test_images/{img_path}\\\"\\nimg_paths = os.listdir(img_path)\\n\\noutput_path = f\\\"outputs/\\\"\\n\\nx_pred_all = []\\ny_pred_all = []\\n\\n# loop over the test dataset folders\\nfor (i, img) in enumerate(img_paths):\\n    # File pathing\\n    img = f\\\"{img_path}/{img}\\\"\\n    image = cv2.imread(img)\\n\\n    # Resize to 128 x 256 - HoGs requires 1:2 ratio\\n    resized_image = cv2.resize(image, (128, 256))\\n\\n    # Generate HoG for image\\n    (hog_desc, hog_image) = feature.hog(\\n        resized_image,\\n        orientations=9,\\n        pixels_per_cell=(8, 8),\\n        cells_per_block=(2, 2),\\n        transform_sqrt=True,\\n        block_norm=\\\"L2\\\",\\n        visualize=True,\\n    )\\n\\n    # Run SVM prediction\\n    x_pred = hog_desc.reshape(1, -1)\\n    y_pred = svm_model.predict(x_pred)[0]\\n\\n    x_pred_all.append(x_pred)\\n    y_pred_all.append(y_pred)\\n\\n    # Print predictions\\n    img_name = img.split(\\\"/\\\")[-1][:-4]\\n\\n    print(\\\"Actual >>>\\\", img_name)\\n    print(\\\"Predicted >>>\\\", pred)\\n\\n    # Rescale HoG image\\n    hog_image = hog_image.astype(\\\"float64\\\")\\n\\n    # Add text to image\\n    actual_text = f\\\"Actual: {img_name}\\\"\\n    predicted_text = f\\\"Predicted: {y_pred}\\\"\\n\\n    cv2.putText(\\n        image, predicted_text, (10, 40), cv2.FONT_HERSHEY_SIMPLEX, 0.6, (255, 0, 0), 2\\n    )\\n    cv2.putText(\\n        image, actual_text, (10, 20), cv2.FONT_HERSHEY_SIMPLEX, 0.6, (255, 0, 0), 2\\n    )\\n\\n    # Write output images to output folder\\n    cv2.imwrite(f\\\"{output_path}hog_{i}.jpg\\\", hog_image * 255.0)\\n    cv2.imwrite(f\\\"{output_path}pred_{i}.jpg\\\", image)\";\n",
       "                var nbb_cells = Jupyter.notebook.get_cells();\n",
       "                for (var i = 0; i < nbb_cells.length; ++i) {\n",
       "                    if (nbb_cells[i].input_prompt_number == nbb_cell_id) {\n",
       "                        if (nbb_cells[i].get_text() == nbb_unformatted_code) {\n",
       "                             nbb_cells[i].set_text(nbb_formatted_code);\n",
       "                        }\n",
       "                        break;\n",
       "                    }\n",
       "                }\n",
       "            }, 500);\n",
       "            "
      ],
      "text/plain": [
       "<IPython.core.display.Javascript object>"
      ]
     },
     "metadata": {},
     "output_type": "display_data"
    }
   ],
   "source": [
    "# Run SVM model on test images\n",
    "print(\"Testing SVM model on testing set ...\")\n",
    "\n",
    "img_path = \"shapes\"\n",
    "img_path = f\"test_images/{img_path}\"\n",
    "img_paths = os.listdir(img_path)\n",
    "\n",
    "output_path = f\"outputs/\"\n",
    "\n",
    "x_pred_all = []\n",
    "y_pred_all = []\n",
    "\n",
    "# loop over the test dataset folders\n",
    "for (i, img) in enumerate(img_paths):\n",
    "    # File pathing\n",
    "    img = f\"{img_path}/{img}\"\n",
    "    image = cv2.imread(img)\n",
    "\n",
    "    # Resize to 128 x 256 - HoGs requires 1:2 ratio\n",
    "    resized_image = cv2.resize(image, (128, 256))\n",
    "\n",
    "    # Generate HoG for image\n",
    "    (hog_desc, hog_image) = feature.hog(\n",
    "        resized_image,\n",
    "        orientations=9,\n",
    "        pixels_per_cell=(8, 8),\n",
    "        cells_per_block=(2, 2),\n",
    "        transform_sqrt=True,\n",
    "        block_norm=\"L2\",\n",
    "        visualize=True,\n",
    "    )\n",
    "\n",
    "    # Run SVM prediction\n",
    "    x_pred = hog_desc.reshape(1, -1)\n",
    "    y_pred = svm_model.predict(x_pred)[0]\n",
    "\n",
    "    x_pred_all.append(x_pred)\n",
    "    y_pred_all.append(y_pred)\n",
    "\n",
    "    # Print predictions\n",
    "    img_name = img.split(\"/\")[-1][:-4]\n",
    "\n",
    "    print(\"Actual >>>\", img_name)\n",
    "    print(\"Predicted >>>\", pred)\n",
    "\n",
    "    # Rescale HoG image\n",
    "    hog_image = hog_image.astype(\"float64\")\n",
    "\n",
    "    # Add text to image\n",
    "    actual_text = f\"Actual: {img_name}\"\n",
    "    predicted_text = f\"Predicted: {y_pred}\"\n",
    "\n",
    "    cv2.putText(\n",
    "        image, predicted_text, (10, 40), cv2.FONT_HERSHEY_SIMPLEX, 0.6, (255, 0, 0), 2\n",
    "    )\n",
    "    cv2.putText(\n",
    "        image, actual_text, (10, 20), cv2.FONT_HERSHEY_SIMPLEX, 0.6, (255, 0, 0), 2\n",
    "    )\n",
    "\n",
    "    # Write output images to output folder\n",
    "    cv2.imwrite(f\"{output_path}hog_{i}.jpg\", hog_image * 255.0)\n",
    "    cv2.imwrite(f\"{output_path}pred_{i}.jpg\", image)"
   ]
  },
  {
   "cell_type": "code",
   "execution_count": 192,
   "metadata": {},
   "outputs": [
    {
     "name": "stdout",
     "output_type": "stream",
     "text": [
      "Score: 0.75\n"
     ]
    },
    {
     "data": {
      "application/javascript": [
       "\n",
       "            setTimeout(function() {\n",
       "                var nbb_cell_id = 192;\n",
       "                var nbb_unformatted_code = \"# Accuracy of Model\\nacc = accuracy_score(y_test[: len(y_pred_all)], y_pred_all)\\nprint(f\\\"Score: {acc}\\\")\";\n",
       "                var nbb_formatted_code = \"# Accuracy of Model\\nacc = accuracy_score(y_test[: len(y_pred_all)], y_pred_all)\\nprint(f\\\"Score: {acc}\\\")\";\n",
       "                var nbb_cells = Jupyter.notebook.get_cells();\n",
       "                for (var i = 0; i < nbb_cells.length; ++i) {\n",
       "                    if (nbb_cells[i].input_prompt_number == nbb_cell_id) {\n",
       "                        if (nbb_cells[i].get_text() == nbb_unformatted_code) {\n",
       "                             nbb_cells[i].set_text(nbb_formatted_code);\n",
       "                        }\n",
       "                        break;\n",
       "                    }\n",
       "                }\n",
       "            }, 500);\n",
       "            "
      ],
      "text/plain": [
       "<IPython.core.display.Javascript object>"
      ]
     },
     "metadata": {},
     "output_type": "display_data"
    }
   ],
   "source": [
    "# Accuracy of Model\n",
    "acc = accuracy_score(y_test[: len(y_pred_all)], y_pred_all)\n",
    "print(f\"Score: {acc}\")"
   ]
  },
  {
   "cell_type": "code",
   "execution_count": 193,
   "metadata": {},
   "outputs": [
    {
     "name": "stdout",
     "output_type": "stream",
     "text": [
      "              precision    recall  f1-score   support\n",
      "\n",
      "       blank       1.00      0.60      0.75        10\n",
      "     squares       0.60      1.00      0.75         6\n",
      "\n",
      "    accuracy                           0.75        16\n",
      "   macro avg       0.80      0.80      0.75        16\n",
      "weighted avg       0.85      0.75      0.75        16\n",
      "\n"
     ]
    },
    {
     "data": {
      "application/javascript": [
       "\n",
       "            setTimeout(function() {\n",
       "                var nbb_cell_id = 193;\n",
       "                var nbb_unformatted_code = \"print(classification_report(y_test[: len(y_pred_all)], y_pred_all))\";\n",
       "                var nbb_formatted_code = \"print(classification_report(y_test[: len(y_pred_all)], y_pred_all))\";\n",
       "                var nbb_cells = Jupyter.notebook.get_cells();\n",
       "                for (var i = 0; i < nbb_cells.length; ++i) {\n",
       "                    if (nbb_cells[i].input_prompt_number == nbb_cell_id) {\n",
       "                        if (nbb_cells[i].get_text() == nbb_unformatted_code) {\n",
       "                             nbb_cells[i].set_text(nbb_formatted_code);\n",
       "                        }\n",
       "                        break;\n",
       "                    }\n",
       "                }\n",
       "            }, 500);\n",
       "            "
      ],
      "text/plain": [
       "<IPython.core.display.Javascript object>"
      ]
     },
     "metadata": {},
     "output_type": "display_data"
    }
   ],
   "source": [
    "print(classification_report(y_test[: len(y_pred_all)], y_pred_all))"
   ]
  },
  {
   "cell_type": "code",
   "execution_count": 194,
   "metadata": {},
   "outputs": [
    {
     "data": {
      "image/png": "[encoded data removed]",
      "text/plain": [
       "<Figure size 432x288 with 1 Axes>"
      ]
     },
     "metadata": {
      "needs_background": "light"
     },
     "output_type": "display_data"
    },
    {
     "data": {
      "application/javascript": [
       "\n",
       "            setTimeout(function() {\n",
       "                var nbb_cell_id = 194;\n",
       "                var nbb_unformatted_code = \"cm = confusion_matrix(\\n    y_test[: len(y_pred_all)], y_pred_all, labels=[\\\"squares\\\", \\\"blank\\\"]\\n)\\n\\nplt.clf()\\nplt.imshow(cm, interpolation=\\\"nearest\\\", cmap=plt.cm.summer)\\nclassNames = [\\\"Negative\\\", \\\"Positive\\\"]\\nplt.title(\\\"SVM Confusion Matrix\\\")\\nplt.ylabel(\\\"True\\\")\\nplt.xlabel(\\\"Predicted\\\")\\ntick_marks = np.arange(len(classNames))\\nplt.xticks(tick_marks, classNames)\\nplt.yticks(tick_marks, classNames)\\ns = [[\\\"TN\\\", \\\"FP\\\"], [\\\"FN\\\", \\\"TP\\\"]]\\n\\nfor i in range(2):\\n    for j in range(2):\\n        plt.text(j, i, str(s[i][j]) + \\\" = \\\" + str(cm[i][j]))\\nplt.show()\";\n",
       "                var nbb_formatted_code = \"cm = confusion_matrix(\\n    y_test[: len(y_pred_all)], y_pred_all, labels=[\\\"squares\\\", \\\"blank\\\"]\\n)\\n\\nplt.clf()\\nplt.imshow(cm, interpolation=\\\"nearest\\\", cmap=plt.cm.summer)\\nclassNames = [\\\"Negative\\\", \\\"Positive\\\"]\\nplt.title(\\\"SVM Confusion Matrix\\\")\\nplt.ylabel(\\\"True\\\")\\nplt.xlabel(\\\"Predicted\\\")\\ntick_marks = np.arange(len(classNames))\\nplt.xticks(tick_marks, classNames)\\nplt.yticks(tick_marks, classNames)\\ns = [[\\\"TN\\\", \\\"FP\\\"], [\\\"FN\\\", \\\"TP\\\"]]\\n\\nfor i in range(2):\\n    for j in range(2):\\n        plt.text(j, i, str(s[i][j]) + \\\" = \\\" + str(cm[i][j]))\\nplt.show()\";\n",
       "                var nbb_cells = Jupyter.notebook.get_cells();\n",
       "                for (var i = 0; i < nbb_cells.length; ++i) {\n",
       "                    if (nbb_cells[i].input_prompt_number == nbb_cell_id) {\n",
       "                        if (nbb_cells[i].get_text() == nbb_unformatted_code) {\n",
       "                             nbb_cells[i].set_text(nbb_formatted_code);\n",
       "                        }\n",
       "                        break;\n",
       "                    }\n",
       "                }\n",
       "            }, 500);\n",
       "            "
      ],
      "text/plain": [
       "<IPython.core.display.Javascript object>"
      ]
     },
     "metadata": {},
     "output_type": "display_data"
    }
   ],
   "source": [
    "cm = confusion_matrix(\n",
    "    y_test[: len(y_pred_all)], y_pred_all, labels=[\"squares\", \"blank\"]\n",
    ")\n",
    "\n",
    "plt.clf()\n",
    "plt.imshow(cm, interpolation=\"nearest\", cmap=plt.cm.summer)\n",
    "classNames = [\"Negative\", \"Positive\"]\n",
    "plt.title(\"SVM Confusion Matrix\")\n",
    "plt.ylabel(\"True\")\n",
    "plt.xlabel(\"Predicted\")\n",
    "tick_marks = np.arange(len(classNames))\n",
    "plt.xticks(tick_marks, classNames)\n",
    "plt.yticks(tick_marks, classNames)\n",
    "s = [[\"TN\", \"FP\"], [\"FN\", \"TP\"]]\n",
    "\n",
    "for i in range(2):\n",
    "    for j in range(2):\n",
    "        plt.text(j, i, str(s[i][j]) + \" = \" + str(cm[i][j]))\n",
    "plt.show()"
   ]
  },
  {
   "cell_type": "code",
   "execution_count": null,
   "metadata": {},
   "outputs": [],
   "source": []
  }
 ],
 "metadata": {
  "kernelspec": {
   "display_name": "Python 3",
   "language": "python",
   "name": "python3"
  },
  "language_info": {
   "codemirror_mode": {
    "name": "ipython",
    "version": 3
   },
   "file_extension": ".py",
   "mimetype": "text/x-python",
   "name": "python",
   "nbconvert_exporter": "python",
   "pygments_lexer": "ipython3",
   "version": "3.7.9"
  }
 },
 "nbformat": 4,
 "nbformat_minor": 4
}
