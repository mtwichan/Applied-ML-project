{
 "cells": [
  {
   "cell_type": "code",
   "execution_count": 68,
   "metadata": {},
   "outputs": [
    {
     "name": "stdout",
     "output_type": "stream",
     "text": [
      "The nb_black extension is already loaded. To reload it, use:\n",
      "  %reload_ext nb_black\n"
     ]
    },
    {
     "data": {
      "application/javascript": [
       "\n",
       "            setTimeout(function() {\n",
       "                var nbb_cell_id = 67;\n",
       "                var nbb_unformatted_code = \"def sliding_window(image, step_sz, window_sz):\\n    for y in range(0, image.shape[0], step_sz):\\n        for x in range(0, image.shape[1], step_sz):\\n            # yield the current window\\n            yield (x, y, image[y : y + window_sz[1], x : x + window_sz[0]])\\n\\n\\ndef pyramid(image, scale=2, minSize=(16, 16)):\\n    # yield the original image\\n    yield image\\n    # keep looping over the pyramid\\n    while True:\\n        # compute the new dimensions of the image and resize it\\n        w = int(image.shape[1] / scale)\\n        #         image = imutils.resize(image, width=w)\\n        width = int(image.shape[1] / scale)\\n        height = int(image.shape[0] / scale)\\n        dim = (width, height)\\n        # resize image\\n        image = cv2.resize(image, dim, interpolation=cv2.INTER_AREA)\\n        # if the resized image does not meet the supplied minimum\\n        # size, then stop constructing the pyramid\\n        if image.shape[0] < minSize[1] or image.shape[1] < minSize[0]:\\n            break\\n        # yield the next image in the pyramid\\n        yield image\\n\\n\\n# image = cv2.imread(\\\"./test_images/shapes/square-1.png\\\")\\n# loop over the image pyramid\\n# for (i, resized) in enumerate(pyramid(image)):\\n#     # show the resized image\\n#     plt.imshow(resized)\\n#     plt.show()\\n\\n\\ndef test_set_algo(image, svm_model, step_sz=25, window_sz=(50, 50)):\\n    x_test = []\\n    y_test = []\\n    image_meta = []\\n\\n    win_width, win_height = window_sz\\n\\n    for (i, image_pyr) in enumerate(pyramid(image)):\\n        print(i)\\n        plt.clf()\\n        plt.imshow(image_pyr)\\n        plt.show()\\n\\n        for x, y, window in sliding_window(\\n            image_pyr, step_sz=step_sz, window_sz=window_sz\\n        ):\\n            # Ignore if window does not match shape\\n            if window.shape[0] != win_height or window.shape[1] != win_width:\\n                continue\\n\\n            # Resize to HoG size - 1:2 ratio\\n            window = cv2.resize(window, (64, 128))\\n            (hog_desc, hog_image) = feature.hog(\\n                window,\\n                orientations=9,\\n                pixels_per_cell=(8, 8),\\n                cells_per_block=(2, 2),\\n                block_norm=\\\"L2\\\",\\n                visualize=True,\\n                transform_sqrt=True,\\n            )\\n\\n            x_pred = hog_desc.reshape(1, -1)\\n            y_pred = svm_model.predict(x_pred)[0]\\n\\n            x_test.append(x_pred)\\n            y_test.append(y_pred)\\n            image_meta.append((x, y, hog_image))\\n\\n    # Get idx of best fitting point\\n    des_func = list(map(svm_model.decision_function, x_test))\\n    des_max = max(des_func)\\n    print(des_max)\\n    des_func_idx = des_func.index(des_max)\\n    label = y_test[des_func_idx]\\n\\n    # Get best fitting sliding window data\\n    x, y, hog_image = image_meta[des_func_idx]\\n\\n    # Draw bounding box on image\\n    image = cv2.rectangle(\\n        image, (x, y), (x + win_width, y + win_height), (0, 255, 0), 2\\n    )\\n\\n    print(i)\\n    plt.clf()\\n    plt.imshow(image)\\n    plt.show()\\n    return label, image, hog_image\\n\\n\\nimage = cv2.imread(\\\"./test_images/shapes/square-1.png\\\")\\nlabel, image, hog_image = test_set_algo(image, svm_model)\";\n",
       "                var nbb_formatted_code = \"def sliding_window(image, step_sz, window_sz):\\n    for y in range(0, image.shape[0], step_sz):\\n        for x in range(0, image.shape[1], step_sz):\\n            # yield the current window\\n            yield (x, y, image[y : y + window_sz[1], x : x + window_sz[0]])\\n\\n\\ndef pyramid(image, scale=2, minSize=(16, 16)):\\n    # yield the original image\\n    yield image\\n    # keep looping over the pyramid\\n    while True:\\n        # compute the new dimensions of the image and resize it\\n        w = int(image.shape[1] / scale)\\n        #         image = imutils.resize(image, width=w)\\n        width = int(image.shape[1] / scale)\\n        height = int(image.shape[0] / scale)\\n        dim = (width, height)\\n        # resize image\\n        image = cv2.resize(image, dim, interpolation=cv2.INTER_AREA)\\n        # if the resized image does not meet the supplied minimum\\n        # size, then stop constructing the pyramid\\n        if image.shape[0] < minSize[1] or image.shape[1] < minSize[0]:\\n            break\\n        # yield the next image in the pyramid\\n        yield image\\n\\n\\n# image = cv2.imread(\\\"./test_images/shapes/square-1.png\\\")\\n# loop over the image pyramid\\n# for (i, resized) in enumerate(pyramid(image)):\\n#     # show the resized image\\n#     plt.imshow(resized)\\n#     plt.show()\\n\\n\\ndef test_set_algo(image, svm_model, step_sz=25, window_sz=(50, 50)):\\n    x_test = []\\n    y_test = []\\n    image_meta = []\\n\\n    win_width, win_height = window_sz\\n\\n    for (i, image_pyr) in enumerate(pyramid(image)):\\n        print(i)\\n        plt.clf()\\n        plt.imshow(image_pyr)\\n        plt.show()\\n\\n        for x, y, window in sliding_window(\\n            image_pyr, step_sz=step_sz, window_sz=window_sz\\n        ):\\n            # Ignore if window does not match shape\\n            if window.shape[0] != win_height or window.shape[1] != win_width:\\n                continue\\n\\n            # Resize to HoG size - 1:2 ratio\\n            window = cv2.resize(window, (64, 128))\\n            (hog_desc, hog_image) = feature.hog(\\n                window,\\n                orientations=9,\\n                pixels_per_cell=(8, 8),\\n                cells_per_block=(2, 2),\\n                block_norm=\\\"L2\\\",\\n                visualize=True,\\n                transform_sqrt=True,\\n            )\\n\\n            x_pred = hog_desc.reshape(1, -1)\\n            y_pred = svm_model.predict(x_pred)[0]\\n\\n            x_test.append(x_pred)\\n            y_test.append(y_pred)\\n            image_meta.append((x, y, hog_image))\\n\\n    # Get idx of best fitting point\\n    des_func = list(map(svm_model.decision_function, x_test))\\n    des_max = max(des_func)\\n    print(des_max)\\n    des_func_idx = des_func.index(des_max)\\n    label = y_test[des_func_idx]\\n\\n    # Get best fitting sliding window data\\n    x, y, hog_image = image_meta[des_func_idx]\\n\\n    # Draw bounding box on image\\n    image = cv2.rectangle(\\n        image, (x, y), (x + win_width, y + win_height), (0, 255, 0), 2\\n    )\\n\\n    print(i)\\n    plt.clf()\\n    plt.imshow(image)\\n    plt.show()\\n    return label, image, hog_image\\n\\n\\nimage = cv2.imread(\\\"./test_images/shapes/square-1.png\\\")\\nlabel, image, hog_image = test_set_algo(image, svm_model)\";\n",
       "                var nbb_cells = Jupyter.notebook.get_cells();\n",
       "                for (var i = 0; i < nbb_cells.length; ++i) {\n",
       "                    if (nbb_cells[i].input_prompt_number == nbb_cell_id) {\n",
       "                        if (nbb_cells[i].get_text() == nbb_unformatted_code) {\n",
       "                             nbb_cells[i].set_text(nbb_formatted_code);\n",
       "                        }\n",
       "                        break;\n",
       "                    }\n",
       "                }\n",
       "            }, 500);\n",
       "            "
      ],
      "text/plain": [
       "<IPython.core.display.Javascript object>"
      ]
     },
     "metadata": {},
     "output_type": "display_data"
    }
   ],
   "source": [
    "# Auto PEP8 Code\n",
    "%load_ext nb_black"
   ]
  },
  {
   "cell_type": "code",
   "execution_count": 69,
   "metadata": {},
   "outputs": [
    {
     "data": {
      "application/javascript": [
       "\n",
       "            setTimeout(function() {\n",
       "                var nbb_cell_id = 68;\n",
       "                var nbb_unformatted_code = \"# Auto PEP8 Code\\n%load_ext nb_black\";\n",
       "                var nbb_formatted_code = \"# Auto PEP8 Code\\n%load_ext nb_black\";\n",
       "                var nbb_cells = Jupyter.notebook.get_cells();\n",
       "                for (var i = 0; i < nbb_cells.length; ++i) {\n",
       "                    if (nbb_cells[i].input_prompt_number == nbb_cell_id) {\n",
       "                        if (nbb_cells[i].get_text() == nbb_unformatted_code) {\n",
       "                             nbb_cells[i].set_text(nbb_formatted_code);\n",
       "                        }\n",
       "                        break;\n",
       "                    }\n",
       "                }\n",
       "            }, 500);\n",
       "            "
      ],
      "text/plain": [
       "<IPython.core.display.Javascript object>"
      ]
     },
     "metadata": {},
     "output_type": "display_data"
    }
   ],
   "source": [
    "# Enable Plots in Jupyter Notebook\n",
    "%matplotlib inline"
   ]
  },
  {
   "cell_type": "code",
   "execution_count": 70,
   "metadata": {},
   "outputs": [
    {
     "data": {
      "application/javascript": [
       "\n",
       "            setTimeout(function() {\n",
       "                var nbb_cell_id = 69;\n",
       "                var nbb_unformatted_code = \"# Enable Plots in Jupyter Notebook\\n%matplotlib inline\";\n",
       "                var nbb_formatted_code = \"# Enable Plots in Jupyter Notebook\\n%matplotlib inline\";\n",
       "                var nbb_cells = Jupyter.notebook.get_cells();\n",
       "                for (var i = 0; i < nbb_cells.length; ++i) {\n",
       "                    if (nbb_cells[i].input_prompt_number == nbb_cell_id) {\n",
       "                        if (nbb_cells[i].get_text() == nbb_unformatted_code) {\n",
       "                             nbb_cells[i].set_text(nbb_formatted_code);\n",
       "                        }\n",
       "                        break;\n",
       "                    }\n",
       "                }\n",
       "            }, 500);\n",
       "            "
      ],
      "text/plain": [
       "<IPython.core.display.Javascript object>"
      ]
     },
     "metadata": {},
     "output_type": "display_data"
    }
   ],
   "source": [
    "from skimage import feature\n",
    "import cv2\n",
    "import matplotlib.pyplot as plt\n",
    "import numpy as np\n",
    "import sys\n"
   ]
  },
  {
   "cell_type": "code",
   "execution_count": null,
   "metadata": {
    "scrolled": true
   },
   "outputs": [],
   "source": [
    "# Test HoG with sample image where square is oriented almost straight\n",
    "# Original Image\n",
    "image = cv2.imread(\"./input/shapes/square/0.png\")\n",
    "plt.imshow(image)\n",
    "plt.title(\"Original Image\")\n",
    "plt.show()\n",
    "\n",
    "# Run HoGs on image\n",
    "(hog, hog_image) = feature.hog(\n",
    "    image,\n",
    "    orientations=9,\n",
    "    pixels_per_cell=(8, 8),\n",
    "    cells_per_block=(2, 2),\n",
    "    block_norm=\"L2\",\n",
    "    visualize=True,\n",
    "    transform_sqrt=True,\n",
    ")\n",
    "\n",
    "plt.imshow(hog_image)\n",
    "plt.title(\"HoGs Image\")\n",
    "plt.show()"
   ]
  },
  {
   "cell_type": "code",
   "execution_count": null,
   "metadata": {},
   "outputs": [],
   "source": [
    "# Pyramid\n",
    "import imutils\n",
    "import cv2\n",
    "\n",
    "\n",
    "def pyramid(image, scale=2, minSize=(10, 10)):\n",
    "    # yield the original image\n",
    "    yield image\n",
    "    # keep looping over the pyramid\n",
    "    while True:\n",
    "        # compute the new dimensions of the image and resize it\n",
    "        w = int(image.shape[1] / scale)\n",
    "        image = imutils.resize(image, width=w)\n",
    "        # if the resized image does not meet the supplied minimum\n",
    "        # size, then stop constructing the pyramid\n",
    "        if image.shape[0] < minSize[1] or image.shape[1] < minSize[0]:\n",
    "            break\n",
    "        # yield the next image in the pyramid\n",
    "        yield image\n",
    "\n",
    "\n",
    "# construct the argument parser and parse the arguments\n",
    "image = cv2.imread(\"./test_images/shapes/square-1.png\")\n",
    "\n",
    "# METHOD #1: No smooth, just scaling.\n",
    "# loop over the image pyramid\n",
    "for (i, resized) in enumerate(pyramid(image)):\n",
    "    # show the resized image\n",
    "    plt.imshow(resized)\n",
    "    plt.show()"
   ]
  },
  {
   "cell_type": "code",
   "execution_count": 182,
   "metadata": {},
   "outputs": [
    {
     "data": {
      "application/javascript": [
       "\n",
       "            setTimeout(function() {\n",
       "                var nbb_cell_id = 180;\n",
       "                var nbb_unformatted_code = \"### Train SVM\\nprint(\\\"Training SVM on the training set ...\\\")\\nsvm_model = LinearSVC(random_state=42, tol=1e-5)\\nsvm_model.fit(x_train, y_train)\";\n",
       "                var nbb_formatted_code = \"### Train SVM\\nprint(\\\"Training SVM on the training set ...\\\")\\nsvm_model = LinearSVC(random_state=42, tol=1e-5)\\nsvm_model.fit(x_train, y_train)\";\n",
       "                var nbb_cells = Jupyter.notebook.get_cells();\n",
       "                for (var i = 0; i < nbb_cells.length; ++i) {\n",
       "                    if (nbb_cells[i].input_prompt_number == nbb_cell_id) {\n",
       "                        if (nbb_cells[i].get_text() == nbb_unformatted_code) {\n",
       "                             nbb_cells[i].set_text(nbb_formatted_code);\n",
       "                        }\n",
       "                        break;\n",
       "                    }\n",
       "                }\n",
       "            }, 500);\n",
       "            "
      ],
      "text/plain": [
       "<IPython.core.display.Javascript object>"
      ]
     },
     "metadata": {},
     "output_type": "display_data"
    }
   ],
   "source": [
    "# Complete Code\n",
    "import os\n",
    "\n",
    "import cv2\n",
    "import imutils\n",
    "from sklearn.svm import LinearSVC\n",
    "from skimage import feature\n",
    "from sklearn.metrics import classification_report, accuracy_score, confusion_matrix"
   ]
  },
  {
   "cell_type": "code",
   "execution_count": 190,
   "metadata": {},
   "outputs": [
    {
     "data": {
      "application/javascript": [
       "\n",
       "            setTimeout(function() {\n",
       "                var nbb_cell_id = 188;\n",
       "                var nbb_unformatted_code = \"def sliding_window(image, step_sz, window_sz):\\n    for y in range(0, image.shape[0], step_sz):\\n        for x in range(0, image.shape[1], step_sz):\\n            # yield the current window\\n            yield (x, y, image[y : y + window_sz[1], x : x + window_sz[0]])\\n\\n\\ndef pyramid(image, scale=2.5, minSize=(5, 5)):\\n    # yield the original image\\n    yield image\\n    # keep looping over the pyramid\\n    while True:\\n        # compute the new dimensions of the image and resize it\\n        w = int(image.shape[1] / scale)\\n        #         image = imutils.resize(image, width=w)\\n        width = int(image.shape[1] / scale)\\n        height = int(image.shape[0] / scale)\\n        dim = (width, height)\\n        # resize image\\n        image = cv2.resize(image, dim, interpolation=cv2.INTER_AREA)\\n        # if the resized image does not meet the supplied minimum\\n        # size, then stop constructing the pyramid\\n        if image.shape[0] < minSize[1] or image.shape[1] < minSize[0]:\\n            break\\n        # yield the next image in the pyramid\\n        yield image\\n\\n\\n# image = cv2.imread(\\\"./test_images/shapes/square-1.png\\\")\\n# loop over the image pyramid\\n# for (i, resized) in enumerate(pyramid(image)):\\n#     # show the resized image\\n#     plt.imshow(resized)\\n#     plt.show()\\n\\n\\ndef test_set_algo(image, svm_model, step_sz=8, window_sz=(100, 100)):\\n    x_test = []\\n    y_test = []\\n    image_meta = []\\n    image = cv2.resize(image, (200, 200))\\n    win_width, win_height = window_sz\\n    for (i, image_pyr) in enumerate(pyramid(image)):\\n        #     for i in range(4):\\n        #         print(i)\\n        #         plt.clf()\\n        #         plt.imshow(image_pyr)\\n        #         plt.show()\\n\\n        #         window_sz = tuple(int(sz / (i + 1)) for sz in window_sz)\\n        #         step_sz = int(step_sz / (i + 1))\\n        #         if window_sz == 0:\\n        #             window_sz = 25\\n        #         if step_sz == 0:\\n        #             step_sz = 8\\n        #         #         print(window_sz)\\n        for x, y, window in sliding_window(\\n            image_pyr, step_sz=step_sz, window_sz=window_sz\\n        ):\\n            # Ignore if window does not match shape\\n            if window.shape[0] != win_height or window.shape[1] != win_width:\\n                continue\\n\\n            # Resize to HoG size - 1:2 ratio\\n            window = cv2.resize(window, (64, 128))\\n            (hog_desc, hog_image) = feature.hog(\\n                window,\\n                orientations=9,\\n                pixels_per_cell=(8, 8),\\n                cells_per_block=(2, 2),\\n                block_norm=\\\"L2\\\",\\n                visualize=True,\\n                transform_sqrt=True,\\n            )\\n\\n            x_pred = hog_desc.reshape(1, -1)\\n            y_pred = svm_model.predict(x_pred)[0]\\n\\n            x_test.append(x_pred)\\n            y_test.append(y_pred)\\n            image_meta.append((x, y, hog_image))\\n\\n    # Get idx of best fitting point\\n    print(x_test)\\n    des_func = list(map(svm_model.decision_function, x_test))\\n    des_max = max(des_func)\\n    print(des_max)\\n    des_func_idx = des_func.index(des_max)\\n    label = y_test[des_func_idx]\\n\\n    # Get best fitting sliding window data\\n    x, y, hog_image = image_meta[des_func_idx]\\n\\n    # Draw bounding box on image\\n    image = cv2.rectangle(\\n        image, (x, y), (x + win_width, y + win_height), (0, 255, 0), 2\\n    )\\n\\n    #     plt.clf()\\n    #     plt.imshow(image)\\n    #     plt.show()\\n    #     print(label)\\n    return label, image, hog_image\\n\\n\\nimage = cv2.imread(\\\"./test_images/shapes/square-35.png\\\")\\nlabel, image, hog_image = test_set_algo(image, svm_model)\";\n",
       "                var nbb_formatted_code = \"def sliding_window(image, step_sz, window_sz):\\n    for y in range(0, image.shape[0], step_sz):\\n        for x in range(0, image.shape[1], step_sz):\\n            # yield the current window\\n            yield (x, y, image[y : y + window_sz[1], x : x + window_sz[0]])\\n\\n\\ndef pyramid(image, scale=2.5, minSize=(5, 5)):\\n    # yield the original image\\n    yield image\\n    # keep looping over the pyramid\\n    while True:\\n        # compute the new dimensions of the image and resize it\\n        w = int(image.shape[1] / scale)\\n        #         image = imutils.resize(image, width=w)\\n        width = int(image.shape[1] / scale)\\n        height = int(image.shape[0] / scale)\\n        dim = (width, height)\\n        # resize image\\n        image = cv2.resize(image, dim, interpolation=cv2.INTER_AREA)\\n        # if the resized image does not meet the supplied minimum\\n        # size, then stop constructing the pyramid\\n        if image.shape[0] < minSize[1] or image.shape[1] < minSize[0]:\\n            break\\n        # yield the next image in the pyramid\\n        yield image\\n\\n\\n# image = cv2.imread(\\\"./test_images/shapes/square-1.png\\\")\\n# loop over the image pyramid\\n# for (i, resized) in enumerate(pyramid(image)):\\n#     # show the resized image\\n#     plt.imshow(resized)\\n#     plt.show()\\n\\n\\ndef test_set_algo(image, svm_model, step_sz=8, window_sz=(100, 100)):\\n    x_test = []\\n    y_test = []\\n    image_meta = []\\n    image = cv2.resize(image, (200, 200))\\n    win_width, win_height = window_sz\\n    for (i, image_pyr) in enumerate(pyramid(image)):\\n        #     for i in range(4):\\n        #         print(i)\\n        #         plt.clf()\\n        #         plt.imshow(image_pyr)\\n        #         plt.show()\\n\\n        #         window_sz = tuple(int(sz / (i + 1)) for sz in window_sz)\\n        #         step_sz = int(step_sz / (i + 1))\\n        #         if window_sz == 0:\\n        #             window_sz = 25\\n        #         if step_sz == 0:\\n        #             step_sz = 8\\n        #         #         print(window_sz)\\n        for x, y, window in sliding_window(\\n            image_pyr, step_sz=step_sz, window_sz=window_sz\\n        ):\\n            # Ignore if window does not match shape\\n            if window.shape[0] != win_height or window.shape[1] != win_width:\\n                continue\\n\\n            # Resize to HoG size - 1:2 ratio\\n            window = cv2.resize(window, (64, 128))\\n            (hog_desc, hog_image) = feature.hog(\\n                window,\\n                orientations=9,\\n                pixels_per_cell=(8, 8),\\n                cells_per_block=(2, 2),\\n                block_norm=\\\"L2\\\",\\n                visualize=True,\\n                transform_sqrt=True,\\n            )\\n\\n            x_pred = hog_desc.reshape(1, -1)\\n            y_pred = svm_model.predict(x_pred)[0]\\n\\n            x_test.append(x_pred)\\n            y_test.append(y_pred)\\n            image_meta.append((x, y, hog_image))\\n\\n    # Get idx of best fitting point\\n    print(x_test)\\n    des_func = list(map(svm_model.decision_function, x_test))\\n    des_max = max(des_func)\\n    print(des_max)\\n    des_func_idx = des_func.index(des_max)\\n    label = y_test[des_func_idx]\\n\\n    # Get best fitting sliding window data\\n    x, y, hog_image = image_meta[des_func_idx]\\n\\n    # Draw bounding box on image\\n    image = cv2.rectangle(\\n        image, (x, y), (x + win_width, y + win_height), (0, 255, 0), 2\\n    )\\n\\n    #     plt.clf()\\n    #     plt.imshow(image)\\n    #     plt.show()\\n    #     print(label)\\n    return label, image, hog_image\\n\\n\\nimage = cv2.imread(\\\"./test_images/shapes/square-35.png\\\")\\nlabel, image, hog_image = test_set_algo(image, svm_model)\";\n",
       "                var nbb_cells = Jupyter.notebook.get_cells();\n",
       "                for (var i = 0; i < nbb_cells.length; ++i) {\n",
       "                    if (nbb_cells[i].input_prompt_number == nbb_cell_id) {\n",
       "                        if (nbb_cells[i].get_text() == nbb_unformatted_code) {\n",
       "                             nbb_cells[i].set_text(nbb_formatted_code);\n",
       "                        }\n",
       "                        break;\n",
       "                    }\n",
       "                }\n",
       "            }, 500);\n",
       "            "
      ],
      "text/plain": [
       "<IPython.core.display.Javascript object>"
      ]
     },
     "metadata": {},
     "output_type": "display_data"
    }
   ],
   "source": [
    "### Training Set\n",
    "# Get HOG Features from Training Set\n",
    "img_path = \"shapes\"\n",
    "img_path = f\"input/{img_path}\"\n",
    "\n",
    "x_train = []\n",
    "y_train = []\n",
    "\n",
    "# Get all the image folder paths\n",
    "img_paths = os.listdir(img_path)\n",
    "for path in img_paths:\n",
    "\n",
    "    # Get lists containing names of all images for training set\n",
    "    main_path = f\"{img_path}/{path}\"\n",
    "    all_images = os.listdir(main_path)\n",
    "\n",
    "    # Run HoGs on training set\n",
    "    for image in all_images:\n",
    "\n",
    "        # Get image\n",
    "        image_path = f\"{main_path}/{image}\"\n",
    "\n",
    "        # Read image and resize to 64 x 128 - HoGs requires 1:2 ratio\n",
    "        image = cv2.imread(image_path)\n",
    "        image = cv2.resize(image, (64, 128))\n",
    "\n",
    "        # Calculate HOG descriptor for each image\n",
    "        hog_desc = feature.hog(\n",
    "            image,\n",
    "            orientations=9,\n",
    "            pixels_per_cell=(8, 8),\n",
    "            cells_per_block=(2, 2),\n",
    "            transform_sqrt=True,\n",
    "            block_norm=\"L2\",\n",
    "        )\n",
    "\n",
    "        # Add images and labels\n",
    "        x_train.append(hog_desc)\n",
    "        y_train.append(path)"
   ]
  },
  {
   "cell_type": "code",
   "execution_count": 191,
   "metadata": {},
   "outputs": [
    {
     "name": "stdout",
     "output_type": "stream",
     "text": [
      "Training SVM on the training set ...\n"
     ]
    },
    {
     "data": {
      "text/plain": [
       "LinearSVC(random_state=42, tol=1e-05)"
      ]
     },
     "execution_count": 191,
     "metadata": {},
     "output_type": "execute_result"
    },
    {
     "data": {
      "application/javascript": [
       "\n",
       "            setTimeout(function() {\n",
       "                var nbb_cell_id = 189;\n",
       "                var nbb_unformatted_code = \"def sliding_window(image, step_sz, window_sz):\\n    for y in range(0, image.shape[0], step_sz):\\n        for x in range(0, image.shape[1], step_sz):\\n            # yield the current window\\n            yield (x, y, image[y : y + window_sz[1], x : x + window_sz[0]])\\n\\n\\ndef pyramid(image, scale=2.5, minSize=(5, 5)):\\n    # yield the original image\\n    yield image\\n    # keep looping over the pyramid\\n    while True:\\n        # compute the new dimensions of the image and resize it\\n        w = int(image.shape[1] / scale)\\n        #         image = imutils.resize(image, width=w)\\n        width = int(image.shape[1] / scale)\\n        height = int(image.shape[0] / scale)\\n        dim = (width, height)\\n        # resize image\\n        image = cv2.resize(image, dim, interpolation=cv2.INTER_AREA)\\n        # if the resized image does not meet the supplied minimum\\n        # size, then stop constructing the pyramid\\n        if image.shape[0] < minSize[1] or image.shape[1] < minSize[0]:\\n            break\\n        # yield the next image in the pyramid\\n        yield image\\n\\n\\n# image = cv2.imread(\\\"./test_images/shapes/square-1.png\\\")\\n# loop over the image pyramid\\n# for (i, resized) in enumerate(pyramid(image)):\\n#     # show the resized image\\n#     plt.imshow(resized)\\n#     plt.show()\\n\\n\\ndef test_set_algo(image, svm_model, step_sz=8, window_sz=(100, 100)):\\n    x_test = []\\n    y_test = []\\n    image_meta = []\\n    image = cv2.resize(image, (200, 200))\\n    win_width, win_height = window_sz\\n    for (i, image_pyr) in enumerate(pyramid(image)):\\n        #     for i in range(4):\\n        #         print(i)\\n        #         plt.clf()\\n        #         plt.imshow(image_pyr)\\n        #         plt.show()\\n\\n        #         window_sz = tuple(int(sz / (i + 1)) for sz in window_sz)\\n        #         step_sz = int(step_sz / (i + 1))\\n        #         if window_sz == 0:\\n        #             window_sz = 25\\n        #         if step_sz == 0:\\n        #             step_sz = 8\\n        #         #         print(window_sz)\\n        for x, y, window in sliding_window(\\n            image_pyr, step_sz=step_sz, window_sz=window_sz\\n        ):\\n            # Ignore if window does not match shape\\n            if window.shape[0] != win_height or window.shape[1] != win_width:\\n                continue\\n\\n            # Resize to HoG size - 1:2 ratio\\n            window = cv2.resize(window, (64, 128))\\n            (hog_desc, hog_image) = feature.hog(\\n                window,\\n                orientations=9,\\n                pixels_per_cell=(8, 8),\\n                cells_per_block=(2, 2),\\n                block_norm=\\\"L2\\\",\\n                visualize=True,\\n                transform_sqrt=True,\\n            )\\n\\n            x_pred = hog_desc.reshape(1, -1)\\n            y_pred = svm_model.predict(x_pred)[0]\\n\\n            x_test.append(x_pred)\\n            y_test.append(y_pred)\\n            image_meta.append((x, y, hog_image))\\n\\n    # Get idx of best fitting point\\n    des_func = list(map(svm_model.decision_function, x_test))\\n    des_max = max(des_func)\\n    print(des_max)\\n    des_func_idx = des_func.index(des_max)\\n    label = y_test[des_func_idx]\\n\\n    # Get best fitting sliding window data\\n    x, y, hog_image = image_meta[des_func_idx]\\n\\n    # Draw bounding box on image\\n    image = cv2.rectangle(\\n        image, (x, y), (x + win_width, y + win_height), (0, 255, 0), 2\\n    )\\n\\n    #     plt.clf()\\n    #     plt.imshow(image)\\n    #     plt.show()\\n    #     print(label)\\n    return label, image, hog_image\\n\\n\\nimage = cv2.imread(\\\"./test_images/shapes/square-35.png\\\")\\nlabel, image, hog_image = test_set_algo(image, svm_model)\";\n",
       "                var nbb_formatted_code = \"def sliding_window(image, step_sz, window_sz):\\n    for y in range(0, image.shape[0], step_sz):\\n        for x in range(0, image.shape[1], step_sz):\\n            # yield the current window\\n            yield (x, y, image[y : y + window_sz[1], x : x + window_sz[0]])\\n\\n\\ndef pyramid(image, scale=2.5, minSize=(5, 5)):\\n    # yield the original image\\n    yield image\\n    # keep looping over the pyramid\\n    while True:\\n        # compute the new dimensions of the image and resize it\\n        w = int(image.shape[1] / scale)\\n        #         image = imutils.resize(image, width=w)\\n        width = int(image.shape[1] / scale)\\n        height = int(image.shape[0] / scale)\\n        dim = (width, height)\\n        # resize image\\n        image = cv2.resize(image, dim, interpolation=cv2.INTER_AREA)\\n        # if the resized image does not meet the supplied minimum\\n        # size, then stop constructing the pyramid\\n        if image.shape[0] < minSize[1] or image.shape[1] < minSize[0]:\\n            break\\n        # yield the next image in the pyramid\\n        yield image\\n\\n\\n# image = cv2.imread(\\\"./test_images/shapes/square-1.png\\\")\\n# loop over the image pyramid\\n# for (i, resized) in enumerate(pyramid(image)):\\n#     # show the resized image\\n#     plt.imshow(resized)\\n#     plt.show()\\n\\n\\ndef test_set_algo(image, svm_model, step_sz=8, window_sz=(100, 100)):\\n    x_test = []\\n    y_test = []\\n    image_meta = []\\n    image = cv2.resize(image, (200, 200))\\n    win_width, win_height = window_sz\\n    for (i, image_pyr) in enumerate(pyramid(image)):\\n        #     for i in range(4):\\n        #         print(i)\\n        #         plt.clf()\\n        #         plt.imshow(image_pyr)\\n        #         plt.show()\\n\\n        #         window_sz = tuple(int(sz / (i + 1)) for sz in window_sz)\\n        #         step_sz = int(step_sz / (i + 1))\\n        #         if window_sz == 0:\\n        #             window_sz = 25\\n        #         if step_sz == 0:\\n        #             step_sz = 8\\n        #         #         print(window_sz)\\n        for x, y, window in sliding_window(\\n            image_pyr, step_sz=step_sz, window_sz=window_sz\\n        ):\\n            # Ignore if window does not match shape\\n            if window.shape[0] != win_height or window.shape[1] != win_width:\\n                continue\\n\\n            # Resize to HoG size - 1:2 ratio\\n            window = cv2.resize(window, (64, 128))\\n            (hog_desc, hog_image) = feature.hog(\\n                window,\\n                orientations=9,\\n                pixels_per_cell=(8, 8),\\n                cells_per_block=(2, 2),\\n                block_norm=\\\"L2\\\",\\n                visualize=True,\\n                transform_sqrt=True,\\n            )\\n\\n            x_pred = hog_desc.reshape(1, -1)\\n            y_pred = svm_model.predict(x_pred)[0]\\n\\n            x_test.append(x_pred)\\n            y_test.append(y_pred)\\n            image_meta.append((x, y, hog_image))\\n\\n    # Get idx of best fitting point\\n    des_func = list(map(svm_model.decision_function, x_test))\\n    des_max = max(des_func)\\n    print(des_max)\\n    des_func_idx = des_func.index(des_max)\\n    label = y_test[des_func_idx]\\n\\n    # Get best fitting sliding window data\\n    x, y, hog_image = image_meta[des_func_idx]\\n\\n    # Draw bounding box on image\\n    image = cv2.rectangle(\\n        image, (x, y), (x + win_width, y + win_height), (0, 255, 0), 2\\n    )\\n\\n    #     plt.clf()\\n    #     plt.imshow(image)\\n    #     plt.show()\\n    #     print(label)\\n    return label, image, hog_image\\n\\n\\nimage = cv2.imread(\\\"./test_images/shapes/square-35.png\\\")\\nlabel, image, hog_image = test_set_algo(image, svm_model)\";\n",
       "                var nbb_cells = Jupyter.notebook.get_cells();\n",
       "                for (var i = 0; i < nbb_cells.length; ++i) {\n",
       "                    if (nbb_cells[i].input_prompt_number == nbb_cell_id) {\n",
       "                        if (nbb_cells[i].get_text() == nbb_unformatted_code) {\n",
       "                             nbb_cells[i].set_text(nbb_formatted_code);\n",
       "                        }\n",
       "                        break;\n",
       "                    }\n",
       "                }\n",
       "            }, 500);\n",
       "            "
      ],
      "text/plain": [
       "<IPython.core.display.Javascript object>"
      ]
     },
     "metadata": {},
     "output_type": "display_data"
    }
   ],
   "source": [
    "### Train SVM\n",
    "print(\"Training SVM on the training set ...\")\n",
    "svm_model = LinearSVC(random_state=42, tol=1e-5)\n",
    "svm_model.fit(x_train, y_train)"
   ]
  },
  {
   "cell_type": "code",
   "execution_count": 197,
   "metadata": {},
   "outputs": [
    {
     "name": "stdout",
     "output_type": "stream",
     "text": [
      "[-1.89815629]\n"
     ]
    },
    {
     "data": {
      "application/javascript": [
       "\n",
       "            setTimeout(function() {\n",
       "                var nbb_cell_id = 195;\n",
       "                var nbb_unformatted_code = \"def sliding_window(image, step_sz, window_sz):\\n    for y in range(0, image.shape[0], step_sz):\\n        for x in range(0, image.shape[1], step_sz):\\n            # yield the current window\\n            yield (x, y, image[y : y + window_sz[1], x : x + window_sz[0]])\\n\\n\\ndef pyramid(image, scale=2.5, minSize=(5, 5)):\\n    # yield the original image\\n    yield image\\n    # keep looping over the pyramid\\n    while True:\\n        # compute the new dimensions of the image and resize it\\n        w = int(image.shape[1] / scale)\\n        #         image = imutils.resize(image, width=w)\\n        width = int(image.shape[1] / scale)\\n        height = int(image.shape[0] / scale)\\n        dim = (width, height)\\n        # resize image\\n        image = cv2.resize(image, dim, interpolation=cv2.INTER_AREA)\\n        # if the resized image does not meet the supplied minimum\\n        # size, then stop constructing the pyramid\\n        if image.shape[0] < minSize[1] or image.shape[1] < minSize[0]:\\n            break\\n        # yield the next image in the pyramid\\n        yield image\\n\\n\\n# image = cv2.imread(\\\"./test_images/shapes/square-1.png\\\")\\n# loop over the image pyramid\\n# for (i, resized) in enumerate(pyramid(image)):\\n#     # show the resized image\\n#     plt.imshow(resized)\\n#     plt.show()\\n\\n\\ndef test_set_algo(image, svm_model, step_sz=8, window_sz=(100, 100)):\\n    x_test = []\\n    y_test = []\\n    image_meta = []\\n    image = cv2.resize(image, (200, 200))\\n    win_width, win_height = window_sz\\n    for (i, image_pyr) in enumerate(pyramid(image)):\\n        #     for i in range(4):\\n        #         print(i)\\n        #         plt.clf()\\n        #         plt.imshow(image_pyr)\\n        #         plt.show()\\n\\n        #         window_sz = tuple(int(sz / (i + 1)) for sz in window_sz)\\n        #         step_sz = int(step_sz / (i + 1))\\n        #         if window_sz == 0:\\n        #             window_sz = 25\\n        #         if step_sz == 0:\\n        #             step_sz = 8\\n        #         #         print(window_sz)\\n        for x, y, window in sliding_window(\\n            image_pyr, step_sz=step_sz, window_sz=window_sz\\n        ):\\n            # Ignore if window does not match shape\\n            if window.shape[0] != win_height or window.shape[1] != win_width:\\n                continue\\n\\n            # Resize to HoG size - 1:2 ratio\\n            window = cv2.resize(window, (64, 128))\\n            (hog_desc, hog_image) = feature.hog(\\n                window,\\n                orientations=9,\\n                pixels_per_cell=(8, 8),\\n                cells_per_block=(2, 2),\\n                block_norm=\\\"L2\\\",\\n                visualize=True,\\n                transform_sqrt=True,\\n            )\\n\\n            x_pred = hog_desc.reshape(1, -1)\\n            y_pred = svm_model.predict(x_pred)[0]\\n\\n            x_test.append(x_pred)\\n            y_test.append(y_pred)\\n            image_meta.append((x, y, hog_image))\\n\\n    # Get idx of best fitting point\\n    des_func = list(map(svm_model.decision_function, x_test))\\n    des_max = abs(max(des_func))\\n    des_min = abs(min(des_func))\\n    \\n    if des_max > des_min:\\n        des_val = des_max\\n    else:\\n        des_val = des_min\\n        \\n    print(des_val)\\n    des_func_idx = des_func.index(des_val)\\n    label = y_test[des_func_idx]\\n\\n    # Get best fitting sliding window data\\n    x, y, hog_image = image_meta[des_func_idx]\\n\\n    # Draw bounding box on image\\n    image = cv2.rectangle(\\n        image, (x, y), (x + win_width, y + win_height), (0, 255, 0), 2\\n    )\\n\\n    #     plt.clf()\\n    #     plt.imshow(image)\\n    #     plt.show()\\n    #     print(label)\\n    return label, image, hog_image\\n\\n\\nimage = cv2.imread(\\\"./test_images/shapes/square-35.png\\\")\\nlabel, image, hog_image = test_set_algo(image, svm_model)\";\n",
       "                var nbb_formatted_code = \"def sliding_window(image, step_sz, window_sz):\\n    for y in range(0, image.shape[0], step_sz):\\n        for x in range(0, image.shape[1], step_sz):\\n            # yield the current window\\n            yield (x, y, image[y : y + window_sz[1], x : x + window_sz[0]])\\n\\n\\ndef pyramid(image, scale=2.5, minSize=(5, 5)):\\n    # yield the original image\\n    yield image\\n    # keep looping over the pyramid\\n    while True:\\n        # compute the new dimensions of the image and resize it\\n        w = int(image.shape[1] / scale)\\n        #         image = imutils.resize(image, width=w)\\n        width = int(image.shape[1] / scale)\\n        height = int(image.shape[0] / scale)\\n        dim = (width, height)\\n        # resize image\\n        image = cv2.resize(image, dim, interpolation=cv2.INTER_AREA)\\n        # if the resized image does not meet the supplied minimum\\n        # size, then stop constructing the pyramid\\n        if image.shape[0] < minSize[1] or image.shape[1] < minSize[0]:\\n            break\\n        # yield the next image in the pyramid\\n        yield image\\n\\n\\n# image = cv2.imread(\\\"./test_images/shapes/square-1.png\\\")\\n# loop over the image pyramid\\n# for (i, resized) in enumerate(pyramid(image)):\\n#     # show the resized image\\n#     plt.imshow(resized)\\n#     plt.show()\\n\\n\\ndef test_set_algo(image, svm_model, step_sz=8, window_sz=(100, 100)):\\n    x_test = []\\n    y_test = []\\n    image_meta = []\\n    image = cv2.resize(image, (200, 200))\\n    win_width, win_height = window_sz\\n    for (i, image_pyr) in enumerate(pyramid(image)):\\n        #     for i in range(4):\\n        #         print(i)\\n        #         plt.clf()\\n        #         plt.imshow(image_pyr)\\n        #         plt.show()\\n\\n        #         window_sz = tuple(int(sz / (i + 1)) for sz in window_sz)\\n        #         step_sz = int(step_sz / (i + 1))\\n        #         if window_sz == 0:\\n        #             window_sz = 25\\n        #         if step_sz == 0:\\n        #             step_sz = 8\\n        #         #         print(window_sz)\\n        for x, y, window in sliding_window(\\n            image_pyr, step_sz=step_sz, window_sz=window_sz\\n        ):\\n            # Ignore if window does not match shape\\n            if window.shape[0] != win_height or window.shape[1] != win_width:\\n                continue\\n\\n            # Resize to HoG size - 1:2 ratio\\n            window = cv2.resize(window, (64, 128))\\n            (hog_desc, hog_image) = feature.hog(\\n                window,\\n                orientations=9,\\n                pixels_per_cell=(8, 8),\\n                cells_per_block=(2, 2),\\n                block_norm=\\\"L2\\\",\\n                visualize=True,\\n                transform_sqrt=True,\\n            )\\n\\n            x_pred = hog_desc.reshape(1, -1)\\n            y_pred = svm_model.predict(x_pred)[0]\\n\\n            x_test.append(x_pred)\\n            y_test.append(y_pred)\\n            image_meta.append((x, y, hog_image))\\n\\n    # Get idx of best fitting point\\n    des_func = list(map(svm_model.decision_function, x_test))\\n    des_max = abs(max(des_func))\\n    des_min = abs(min(des_func))\\n\\n    if des_max > des_min:\\n        des_val = des_max\\n    else:\\n        des_val = des_min\\n\\n    print(des_val)\\n    des_func_idx = des_func.index(des_val)\\n    label = y_test[des_func_idx]\\n\\n    # Get best fitting sliding window data\\n    x, y, hog_image = image_meta[des_func_idx]\\n\\n    # Draw bounding box on image\\n    image = cv2.rectangle(\\n        image, (x, y), (x + win_width, y + win_height), (0, 255, 0), 2\\n    )\\n\\n    #     plt.clf()\\n    #     plt.imshow(image)\\n    #     plt.show()\\n    #     print(label)\\n    return label, image, hog_image\\n\\n\\nimage = cv2.imread(\\\"./test_images/shapes/square-35.png\\\")\\nlabel, image, hog_image = test_set_algo(image, svm_model)\";\n",
       "                var nbb_cells = Jupyter.notebook.get_cells();\n",
       "                for (var i = 0; i < nbb_cells.length; ++i) {\n",
       "                    if (nbb_cells[i].input_prompt_number == nbb_cell_id) {\n",
       "                        if (nbb_cells[i].get_text() == nbb_unformatted_code) {\n",
       "                             nbb_cells[i].set_text(nbb_formatted_code);\n",
       "                        }\n",
       "                        break;\n",
       "                    }\n",
       "                }\n",
       "            }, 500);\n",
       "            "
      ],
      "text/plain": [
       "<IPython.core.display.Javascript object>"
      ]
     },
     "metadata": {},
     "output_type": "display_data"
    }
   ],
   "source": [
    "def sliding_window(image, step_sz, window_sz):\n",
    "    for y in range(0, image.shape[0], step_sz):\n",
    "        for x in range(0, image.shape[1], step_sz):\n",
    "            # yield the current window\n",
    "            yield (x, y, image[y : y + window_sz[1], x : x + window_sz[0]])\n",
    "\n",
    "\n",
    "def pyramid(image, scale=2.5, minSize=(5, 5)):\n",
    "    # yield the original image\n",
    "    yield image\n",
    "    # keep looping over the pyramid\n",
    "    while True:\n",
    "        # compute the new dimensions of the image and resize it\n",
    "        w = int(image.shape[1] / scale)\n",
    "        #         image = imutils.resize(image, width=w)\n",
    "        width = int(image.shape[1] / scale)\n",
    "        height = int(image.shape[0] / scale)\n",
    "        dim = (width, height)\n",
    "        # resize image\n",
    "        image = cv2.resize(image, dim, interpolation=cv2.INTER_AREA)\n",
    "        # if the resized image does not meet the supplied minimum\n",
    "        # size, then stop constructing the pyramid\n",
    "        if image.shape[0] < minSize[1] or image.shape[1] < minSize[0]:\n",
    "            break\n",
    "        # yield the next image in the pyramid\n",
    "        yield image\n",
    "\n",
    "\n",
    "# image = cv2.imread(\"./test_images/shapes/square-1.png\")\n",
    "# loop over the image pyramid\n",
    "# for (i, resized) in enumerate(pyramid(image)):\n",
    "#     # show the resized image\n",
    "#     plt.imshow(resized)\n",
    "#     plt.show()\n",
    "\n",
    "\n",
    "def test_set_algo(image, svm_model, step_sz=8, window_sz=(100, 100)):\n",
    "    x_test = []\n",
    "    y_test = []\n",
    "    image_meta = []\n",
    "    image = cv2.resize(image, (200, 200))\n",
    "    win_width, win_height = window_sz\n",
    "    for (i, image_pyr) in enumerate(pyramid(image)):\n",
    "        for x, y, window in sliding_window(\n",
    "            image_pyr, step_sz=step_sz, window_sz=window_sz\n",
    "        ):\n",
    "            # Ignore if window does not match shape\n",
    "            if window.shape[0] != win_height or window.shape[1] != win_width:\n",
    "                continue\n",
    "\n",
    "            # Resize to HoG size - 1:2 ratio\n",
    "            window = cv2.resize(window, (64, 128))\n",
    "            (hog_desc, hog_image) = feature.hog(\n",
    "                window,\n",
    "                orientations=9,\n",
    "                pixels_per_cell=(8, 8),\n",
    "                cells_per_block=(2, 2),\n",
    "                block_norm=\"L2\",\n",
    "                visualize=True,\n",
    "                transform_sqrt=True,\n",
    "            )\n",
    "\n",
    "            x_pred = hog_desc.reshape(1, -1)\n",
    "            y_pred = svm_model.predict(x_pred)[0]\n",
    "\n",
    "            x_test.append(x_pred)\n",
    "            y_test.append(y_pred)\n",
    "            image_meta.append((x, y, hog_image))\n",
    "\n",
    "    # Get idx of best fitting point\n",
    "    des_func = list(map(svm_model.decision_function, x_test))\n",
    "    des_max = max(des_func)\n",
    "    des_min = min(des_func)\n",
    "    \n",
    "    if abs(des_max) > abs(des_min):\n",
    "        des_val = des_max\n",
    "    else:\n",
    "        des_val = des_min\n",
    "        \n",
    "    print(des_val)\n",
    "    des_func_idx = des_func.index(des_val)\n",
    "    label = y_test[des_func_idx]\n",
    "\n",
    "    # Get best fitting sliding window data\n",
    "    x, y, hog_image = image_meta[des_func_idx]\n",
    "\n",
    "    # Draw bounding box on image\n",
    "    image = cv2.rectangle(\n",
    "        image, (x, y), (x + win_width, y + win_height), (0, 255, 0), 2\n",
    "    )\n",
    "\n",
    "        plt.clf()\n",
    "        plt.imshow(image)\n",
    "        plt.show()\n",
    "        print(label)\n",
    "    return label, image, hog_image\n",
    "\n",
    "\n",
    "image = cv2.imread(\"./test_images/shapes/square-35.png\")\n",
    "label, image, hog_image = test_set_algo(image, svm_model)"
   ]
  },
  {
   "cell_type": "code",
   "execution_count": 198,
   "metadata": {},
   "outputs": [
    {
     "name": "stdout",
     "output_type": "stream",
     "text": [
      "Testing SVM model on testing set ...\n",
      "[-1.53830575]\n",
      "Actual >>> square-3\n",
      "Predicted >>> square\n",
      "\n",
      "\n",
      "[-0.49519798]\n",
      "Actual >>> square-4\n",
      "Predicted >>> square\n",
      "\n",
      "\n",
      "[-1.11390476]\n",
      "Actual >>> square-5\n",
      "Predicted >>> square\n",
      "\n",
      "\n",
      "[-1.07162649]\n",
      "Actual >>> square-6\n",
      "Predicted >>> square\n",
      "\n",
      "\n",
      "[-0.5206366]\n",
      "Actual >>> square-7\n",
      "Predicted >>> square\n",
      "\n",
      "\n",
      "[-1.05299597]\n",
      "Actual >>> Star_fcfc7886-2a87-11ea-8123-8363a7ec19e6\n",
      "Predicted >>> square\n",
      "\n",
      "\n",
      "[-1.44292708]\n",
      "Actual >>> Star_fd0202ac-2a95-11ea-8123-8363a7ec19e6\n",
      "Predicted >>> square\n",
      "\n",
      "\n",
      "[-0.99302803]\n",
      "Actual >>> Star_fd03cd2e-2a83-11ea-8123-8363a7ec19e6\n",
      "Predicted >>> square\n",
      "\n",
      "\n",
      "[-1.66248084]\n",
      "Actual >>> Star_fd1c056c-2a86-11ea-8123-8363a7ec19e6\n",
      "Predicted >>> square\n",
      "\n",
      "\n",
      "[-0.43095213]\n",
      "Actual >>> Star_fd1c4550-2a8a-11ea-8123-8363a7ec19e6\n",
      "Predicted >>> square\n",
      "\n",
      "\n",
      "[-0.58472702]\n",
      "Actual >>> Star_fd2f1c20-2a8f-11ea-8123-8363a7ec19e6\n",
      "Predicted >>> square\n",
      "\n",
      "\n",
      "[-1.53237497]\n",
      "Actual >>> Star_fd36b39c-2a97-11ea-8123-8363a7ec19e6\n",
      "Predicted >>> square\n",
      "\n",
      "\n",
      "[-1.61944492]\n",
      "Actual >>> Star_fd3b1f72-2a92-11ea-8123-8363a7ec19e6\n",
      "Predicted >>> square\n",
      "\n",
      "\n",
      "[-1.72551378]\n",
      "Actual >>> Star_fd5ea630-2a84-11ea-8123-8363a7ec19e6\n",
      "Predicted >>> square\n",
      "\n",
      "\n",
      "[-1.36722531]\n",
      "Actual >>> Star_fd61f706-2a91-11ea-8123-8363a7ec19e6\n",
      "Predicted >>> square\n",
      "\n",
      "\n",
      "[-0.72019915]\n",
      "Actual >>> Star_fd67a824-2a99-11ea-8123-8363a7ec19e6\n",
      "Predicted >>> square\n",
      "\n",
      "\n",
      "[-1.55997186]\n",
      "Actual >>> Star_fd91e698-2a85-11ea-8123-8363a7ec19e6\n",
      "Predicted >>> square\n",
      "\n",
      "\n",
      "[-1.41515372]\n",
      "Actual >>> Star_fd9c71c0-2a95-11ea-8123-8363a7ec19e6\n",
      "Predicted >>> square\n",
      "\n",
      "\n"
     ]
    },
    {
     "data": {
      "application/javascript": [
       "\n",
       "            setTimeout(function() {\n",
       "                var nbb_cell_id = 196;\n",
       "                var nbb_unformatted_code = \"# Run SVM model on test images\\nprint(\\\"Testing SVM model on testing set ...\\\")\\n\\nimg_path = \\\"stars\\\"\\nimg_path = f\\\"test_images/{img_path}\\\"\\nimg_paths = os.listdir(img_path)\\n\\noutput_path = f\\\"outputs/\\\"\\n\\nx_pred_all = []\\ny_pred_all = []\\n\\n# loop over the test dataset folders\\nfor (i, img) in enumerate(img_paths):\\n    # File pathing\\n    img = f\\\"{img_path}/{img}\\\"\\n    image = cv2.imread(img)\\n\\n    # Run HoGs algorithim and sliding window\\n    label, image, hog_image = test_set_algo(image, svm_model)\\n\\n    # Print predictions\\n    img_name = img.split(\\\"/\\\")[-1][:-4]\\n\\n    print(\\\"Actual >>>\\\", img_name)\\n    print(\\\"Predicted >>>\\\", label)\\n    print(\\\"\\\\n\\\")\\n\\n    # Rescale HoG image\\n    hog_image = hog_image.astype(\\\"float64\\\")\\n\\n    # Add text to image\\n    actual_text = f\\\"Actual: {img_name}\\\"\\n    predicted_text = f\\\"Predicted: {label}\\\"\\n\\n    cv2.putText(\\n        image, predicted_text, (10, 40), cv2.FONT_HERSHEY_SIMPLEX, 0.6, (255, 0, 0), 2\\n    )\\n    cv2.putText(\\n        image, actual_text, (10, 20), cv2.FONT_HERSHEY_SIMPLEX, 0.6, (255, 0, 0), 2\\n    )\\n\\n    # Write output images to output folder\\n    cv2.imwrite(f\\\"{output_path}hog_{i}.jpg\\\", hog_image * 255.0)\\n    cv2.imwrite(f\\\"{output_path}pred_{i}.jpg\\\", image)\";\n",
       "                var nbb_formatted_code = \"# Run SVM model on test images\\nprint(\\\"Testing SVM model on testing set ...\\\")\\n\\nimg_path = \\\"stars\\\"\\nimg_path = f\\\"test_images/{img_path}\\\"\\nimg_paths = os.listdir(img_path)\\n\\noutput_path = f\\\"outputs/\\\"\\n\\nx_pred_all = []\\ny_pred_all = []\\n\\n# loop over the test dataset folders\\nfor (i, img) in enumerate(img_paths):\\n    # File pathing\\n    img = f\\\"{img_path}/{img}\\\"\\n    image = cv2.imread(img)\\n\\n    # Run HoGs algorithim and sliding window\\n    label, image, hog_image = test_set_algo(image, svm_model)\\n\\n    # Print predictions\\n    img_name = img.split(\\\"/\\\")[-1][:-4]\\n\\n    print(\\\"Actual >>>\\\", img_name)\\n    print(\\\"Predicted >>>\\\", label)\\n    print(\\\"\\\\n\\\")\\n\\n    # Rescale HoG image\\n    hog_image = hog_image.astype(\\\"float64\\\")\\n\\n    # Add text to image\\n    actual_text = f\\\"Actual: {img_name}\\\"\\n    predicted_text = f\\\"Predicted: {label}\\\"\\n\\n    cv2.putText(\\n        image, predicted_text, (10, 40), cv2.FONT_HERSHEY_SIMPLEX, 0.6, (255, 0, 0), 2\\n    )\\n    cv2.putText(\\n        image, actual_text, (10, 20), cv2.FONT_HERSHEY_SIMPLEX, 0.6, (255, 0, 0), 2\\n    )\\n\\n    # Write output images to output folder\\n    cv2.imwrite(f\\\"{output_path}hog_{i}.jpg\\\", hog_image * 255.0)\\n    cv2.imwrite(f\\\"{output_path}pred_{i}.jpg\\\", image)\";\n",
       "                var nbb_cells = Jupyter.notebook.get_cells();\n",
       "                for (var i = 0; i < nbb_cells.length; ++i) {\n",
       "                    if (nbb_cells[i].input_prompt_number == nbb_cell_id) {\n",
       "                        if (nbb_cells[i].get_text() == nbb_unformatted_code) {\n",
       "                             nbb_cells[i].set_text(nbb_formatted_code);\n",
       "                        }\n",
       "                        break;\n",
       "                    }\n",
       "                }\n",
       "            }, 500);\n",
       "            "
      ],
      "text/plain": [
       "<IPython.core.display.Javascript object>"
      ]
     },
     "metadata": {},
     "output_type": "display_data"
    }
   ],
   "source": [
    "# Run SVM model on test images\n",
    "print(\"Testing SVM model on testing set ...\")\n",
    "\n",
    "img_path = \"stars\"\n",
    "img_path = f\"test_images/{img_path}\"\n",
    "img_paths = os.listdir(img_path)\n",
    "\n",
    "output_path = f\"outputs/\"\n",
    "\n",
    "x_pred_all = []\n",
    "y_pred_all = []\n",
    "\n",
    "# loop over the test dataset folders\n",
    "for (i, img) in enumerate(img_paths):\n",
    "    # File pathing\n",
    "    img = f\"{img_path}/{img}\"\n",
    "    image = cv2.imread(img)\n",
    "\n",
    "    # Run HoGs algorithim and sliding window\n",
    "    label, image, hog_image = test_set_algo(image, svm_model)\n",
    "\n",
    "    # Print predictions\n",
    "    img_name = img.split(\"/\")[-1][:-4]\n",
    "\n",
    "    print(\"Actual >>>\", img_name)\n",
    "    print(\"Predicted >>>\", label)\n",
    "    print(\"\\n\")\n",
    "\n",
    "    # Rescale HoG image\n",
    "    hog_image = hog_image.astype(\"float64\")\n",
    "\n",
    "    # Add text to image\n",
    "    actual_text = f\"Actual: {img_name}\"\n",
    "    predicted_text = f\"Predicted: {label}\"\n",
    "\n",
    "    cv2.putText(\n",
    "        image, predicted_text, (10, 40), cv2.FONT_HERSHEY_SIMPLEX, 0.6, (255, 0, 0), 2\n",
    "    )\n",
    "    cv2.putText(\n",
    "        image, actual_text, (10, 20), cv2.FONT_HERSHEY_SIMPLEX, 0.6, (255, 0, 0), 2\n",
    "    )\n",
    "\n",
    "    # Write output images to output folder\n",
    "    cv2.imwrite(f\"{output_path}hog_{i}.jpg\", hog_image * 255.0)\n",
    "    cv2.imwrite(f\"{output_path}pred_{i}.jpg\", image)"
   ]
  },
  {
   "cell_type": "code",
   "execution_count": null,
   "metadata": {},
   "outputs": [],
   "source": []
  }
 ],
 "metadata": {
  "kernelspec": {
   "display_name": "Python 3",
   "language": "python",
   "name": "python3"
  },
  "language_info": {
   "codemirror_mode": {
    "name": "ipython",
    "version": 3
   },
   "file_extension": ".py",
   "mimetype": "text/x-python",
   "name": "python",
   "nbconvert_exporter": "python",
   "pygments_lexer": "ipython3",
   "version": "3.7.9"
  }
 },
 "nbformat": 4,
 "nbformat_minor": 4
}
